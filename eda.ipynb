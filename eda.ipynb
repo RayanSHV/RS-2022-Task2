{
 "cells": [
  {
   "cell_type": "code",
   "execution_count": 202,
   "id": "b489cb9e",
   "metadata": {},
   "outputs": [],
   "source": [
    "import pandas as pd\n",
    "import numpy as np\n",
    "import seaborn as sns\n",
    "import matplotlib.pyplot as plt"
   ]
  },
  {
   "cell_type": "markdown",
   "id": "d07912a0",
   "metadata": {},
   "source": [
    "# Context"
   ]
  },
  {
   "cell_type": "markdown",
   "id": "b7a87809",
   "metadata": {},
   "source": [
    "Имеется синтетический набор данных, используемый для этого соревнования. Он основан на реальном наборе данных (в данном случае, фактических данных Titanic) и сгенерирован с использованием CTGAN. Статистические свойства этого набора данных очень похожи на свойства оригинального набора данных.\n",
    "\n",
    "Загружаем датасет и приступаем к описанию данных."
   ]
  },
  {
   "cell_type": "code",
   "execution_count": 88,
   "id": "6b981d68",
   "metadata": {},
   "outputs": [
    {
     "data": {
      "text/html": [
       "<div>\n",
       "<style scoped>\n",
       "    .dataframe tbody tr th:only-of-type {\n",
       "        vertical-align: middle;\n",
       "    }\n",
       "\n",
       "    .dataframe tbody tr th {\n",
       "        vertical-align: top;\n",
       "    }\n",
       "\n",
       "    .dataframe thead th {\n",
       "        text-align: right;\n",
       "    }\n",
       "</style>\n",
       "<table border=\"1\" class=\"dataframe\">\n",
       "  <thead>\n",
       "    <tr style=\"text-align: right;\">\n",
       "      <th></th>\n",
       "      <th>Survived</th>\n",
       "      <th>Pclass</th>\n",
       "      <th>Name</th>\n",
       "      <th>Sex</th>\n",
       "      <th>Age</th>\n",
       "      <th>SibSp</th>\n",
       "      <th>Parch</th>\n",
       "      <th>Ticket</th>\n",
       "      <th>Fare</th>\n",
       "      <th>Cabin</th>\n",
       "      <th>Embarked</th>\n",
       "    </tr>\n",
       "    <tr>\n",
       "      <th>PassengerId</th>\n",
       "      <th></th>\n",
       "      <th></th>\n",
       "      <th></th>\n",
       "      <th></th>\n",
       "      <th></th>\n",
       "      <th></th>\n",
       "      <th></th>\n",
       "      <th></th>\n",
       "      <th></th>\n",
       "      <th></th>\n",
       "      <th></th>\n",
       "    </tr>\n",
       "  </thead>\n",
       "  <tbody>\n",
       "    <tr>\n",
       "      <th>0</th>\n",
       "      <td>1</td>\n",
       "      <td>1</td>\n",
       "      <td>Oconnor, Frankie</td>\n",
       "      <td>male</td>\n",
       "      <td>NaN</td>\n",
       "      <td>2</td>\n",
       "      <td>0</td>\n",
       "      <td>209245</td>\n",
       "      <td>27.14</td>\n",
       "      <td>C12239</td>\n",
       "      <td>S</td>\n",
       "    </tr>\n",
       "    <tr>\n",
       "      <th>1</th>\n",
       "      <td>0</td>\n",
       "      <td>3</td>\n",
       "      <td>Bryan, Drew</td>\n",
       "      <td>male</td>\n",
       "      <td>NaN</td>\n",
       "      <td>0</td>\n",
       "      <td>0</td>\n",
       "      <td>27323</td>\n",
       "      <td>13.35</td>\n",
       "      <td>NaN</td>\n",
       "      <td>S</td>\n",
       "    </tr>\n",
       "    <tr>\n",
       "      <th>2</th>\n",
       "      <td>0</td>\n",
       "      <td>3</td>\n",
       "      <td>Owens, Kenneth</td>\n",
       "      <td>male</td>\n",
       "      <td>0.33</td>\n",
       "      <td>1</td>\n",
       "      <td>2</td>\n",
       "      <td>CA 457703</td>\n",
       "      <td>71.29</td>\n",
       "      <td>NaN</td>\n",
       "      <td>S</td>\n",
       "    </tr>\n",
       "    <tr>\n",
       "      <th>3</th>\n",
       "      <td>0</td>\n",
       "      <td>3</td>\n",
       "      <td>Kramer, James</td>\n",
       "      <td>male</td>\n",
       "      <td>19.00</td>\n",
       "      <td>0</td>\n",
       "      <td>0</td>\n",
       "      <td>A. 10866</td>\n",
       "      <td>13.04</td>\n",
       "      <td>NaN</td>\n",
       "      <td>S</td>\n",
       "    </tr>\n",
       "    <tr>\n",
       "      <th>4</th>\n",
       "      <td>1</td>\n",
       "      <td>3</td>\n",
       "      <td>Bond, Michael</td>\n",
       "      <td>male</td>\n",
       "      <td>25.00</td>\n",
       "      <td>0</td>\n",
       "      <td>0</td>\n",
       "      <td>427635</td>\n",
       "      <td>7.76</td>\n",
       "      <td>NaN</td>\n",
       "      <td>S</td>\n",
       "    </tr>\n",
       "    <tr>\n",
       "      <th>...</th>\n",
       "      <td>...</td>\n",
       "      <td>...</td>\n",
       "      <td>...</td>\n",
       "      <td>...</td>\n",
       "      <td>...</td>\n",
       "      <td>...</td>\n",
       "      <td>...</td>\n",
       "      <td>...</td>\n",
       "      <td>...</td>\n",
       "      <td>...</td>\n",
       "      <td>...</td>\n",
       "    </tr>\n",
       "    <tr>\n",
       "      <th>99995</th>\n",
       "      <td>1</td>\n",
       "      <td>2</td>\n",
       "      <td>Bell, Adele</td>\n",
       "      <td>female</td>\n",
       "      <td>62.00</td>\n",
       "      <td>0</td>\n",
       "      <td>0</td>\n",
       "      <td>PC 15008</td>\n",
       "      <td>14.86</td>\n",
       "      <td>D17243</td>\n",
       "      <td>C</td>\n",
       "    </tr>\n",
       "    <tr>\n",
       "      <th>99996</th>\n",
       "      <td>0</td>\n",
       "      <td>2</td>\n",
       "      <td>Brown, Herman</td>\n",
       "      <td>male</td>\n",
       "      <td>66.00</td>\n",
       "      <td>0</td>\n",
       "      <td>0</td>\n",
       "      <td>13273</td>\n",
       "      <td>11.15</td>\n",
       "      <td>NaN</td>\n",
       "      <td>S</td>\n",
       "    </tr>\n",
       "    <tr>\n",
       "      <th>99997</th>\n",
       "      <td>0</td>\n",
       "      <td>3</td>\n",
       "      <td>Childress, Charles</td>\n",
       "      <td>male</td>\n",
       "      <td>37.00</td>\n",
       "      <td>0</td>\n",
       "      <td>0</td>\n",
       "      <td>NaN</td>\n",
       "      <td>9.95</td>\n",
       "      <td>NaN</td>\n",
       "      <td>S</td>\n",
       "    </tr>\n",
       "    <tr>\n",
       "      <th>99998</th>\n",
       "      <td>0</td>\n",
       "      <td>3</td>\n",
       "      <td>Caughlin, Thomas</td>\n",
       "      <td>male</td>\n",
       "      <td>51.00</td>\n",
       "      <td>0</td>\n",
       "      <td>1</td>\n",
       "      <td>458654</td>\n",
       "      <td>30.92</td>\n",
       "      <td>NaN</td>\n",
       "      <td>S</td>\n",
       "    </tr>\n",
       "    <tr>\n",
       "      <th>99999</th>\n",
       "      <td>0</td>\n",
       "      <td>3</td>\n",
       "      <td>Enciso, Tyler</td>\n",
       "      <td>male</td>\n",
       "      <td>55.00</td>\n",
       "      <td>0</td>\n",
       "      <td>0</td>\n",
       "      <td>458074</td>\n",
       "      <td>13.96</td>\n",
       "      <td>NaN</td>\n",
       "      <td>S</td>\n",
       "    </tr>\n",
       "  </tbody>\n",
       "</table>\n",
       "<p>100000 rows × 11 columns</p>\n",
       "</div>"
      ],
      "text/plain": [
       "             Survived  Pclass                Name     Sex    Age  SibSp  \\\n",
       "PassengerId                                                               \n",
       "0                   1       1    Oconnor, Frankie    male    NaN      2   \n",
       "1                   0       3         Bryan, Drew    male    NaN      0   \n",
       "2                   0       3      Owens, Kenneth    male   0.33      1   \n",
       "3                   0       3       Kramer, James    male  19.00      0   \n",
       "4                   1       3       Bond, Michael    male  25.00      0   \n",
       "...               ...     ...                 ...     ...    ...    ...   \n",
       "99995               1       2         Bell, Adele  female  62.00      0   \n",
       "99996               0       2       Brown, Herman    male  66.00      0   \n",
       "99997               0       3  Childress, Charles    male  37.00      0   \n",
       "99998               0       3    Caughlin, Thomas    male  51.00      0   \n",
       "99999               0       3       Enciso, Tyler    male  55.00      0   \n",
       "\n",
       "             Parch     Ticket   Fare   Cabin Embarked  \n",
       "PassengerId                                            \n",
       "0                0     209245  27.14  C12239        S  \n",
       "1                0      27323  13.35     NaN        S  \n",
       "2                2  CA 457703  71.29     NaN        S  \n",
       "3                0   A. 10866  13.04     NaN        S  \n",
       "4                0     427635   7.76     NaN        S  \n",
       "...            ...        ...    ...     ...      ...  \n",
       "99995            0   PC 15008  14.86  D17243        C  \n",
       "99996            0      13273  11.15     NaN        S  \n",
       "99997            0        NaN   9.95     NaN        S  \n",
       "99998            1     458654  30.92     NaN        S  \n",
       "99999            0     458074  13.96     NaN        S  \n",
       "\n",
       "[100000 rows x 11 columns]"
      ]
     },
     "execution_count": 88,
     "metadata": {},
     "output_type": "execute_result"
    }
   ],
   "source": [
    "df_path = 'train.csv'\n",
    "df = pd.read_csv(df_path, index_col = 'PassengerId')\n",
    "df"
   ]
  },
  {
   "cell_type": "markdown",
   "id": "5dc109f8",
   "metadata": {},
   "source": [
    "## Описание переменных\n",
    "### PassengerId:\n",
    "Номер пассажира \n",
    "### Survived:  \n",
    "0 = не выжил, 1 = выжил\n",
    "### PClass:\n",
    "1 - й = VIP  \n",
    "2 - й = Комфорт  \n",
    "3 - й = Эконом\n",
    "### Name:  \n",
    "Имя пассажира\n",
    "### Sex:  \n",
    "Пол\n",
    "### Age:  \n",
    "Возраст дробный, если меньше 1. Если возраст оценивается, то в форме xx.5\n",
    "### Sibsp: \n",
    "Количество близких родственников на борту. Тип родства для столбца **Sibsp** определяется как:    \n",
    "Родной брат = брат, сестра, сводный брат, сводная сестра  \n",
    "Супруг = муж, жена (любовницы и женихи были не в счет)\n",
    "### Parch: \n",
    "Количество детей или родитилей на борту. Тип родства для столбца **Parch** определяется как: \n",
    "Родитель = мать, отец  \n",
    "Ребенок = дочь, сын, падчерица, пасынок  \n",
    "Некоторые дети путешествовали только с няней, поэтому **parch**=0 для них.\n",
    "### Tiket:\n",
    "Номер билета\n",
    "### Fare:\n",
    "Стоимость входного билета\n",
    "### Cabin:\n",
    "Номер каюты\n",
    "### Embarked:\n",
    "Порт посадки   \n",
    "S = Southampton (England),   \n",
    "C = Cherbourg (France),  \n",
    "Q = Queenstown (Ireland)"
   ]
  },
  {
   "cell_type": "markdown",
   "id": "9b4320c6",
   "metadata": {},
   "source": [
    "# Data quality assessment"
   ]
  },
  {
   "cell_type": "markdown",
   "id": "72bee73f",
   "metadata": {},
   "source": [
    "### Проводим оценку полноты информации, представленной в датасете."
   ]
  },
  {
   "cell_type": "code",
   "execution_count": 57,
   "id": "80ebcb2b",
   "metadata": {},
   "outputs": [
    {
     "name": "stdout",
     "output_type": "stream",
     "text": [
      "<class 'pandas.core.frame.DataFrame'>\n",
      "Int64Index: 100000 entries, 0 to 99999\n",
      "Data columns (total 11 columns):\n",
      " #   Column    Non-Null Count   Dtype  \n",
      "---  ------    --------------   -----  \n",
      " 0   Survived  100000 non-null  int64  \n",
      " 1   Pclass    100000 non-null  int64  \n",
      " 2   Name      100000 non-null  object \n",
      " 3   Sex       100000 non-null  object \n",
      " 4   Age       96708 non-null   float64\n",
      " 5   SibSp     100000 non-null  int64  \n",
      " 6   Parch     100000 non-null  int64  \n",
      " 7   Ticket    95377 non-null   object \n",
      " 8   Fare      99866 non-null   float64\n",
      " 9   Cabin     32134 non-null   object \n",
      " 10  Embarked  99750 non-null   object \n",
      "dtypes: float64(2), int64(4), object(5)\n",
      "memory usage: 9.2+ MB\n"
     ]
    }
   ],
   "source": [
    "df.info()"
   ]
  },
  {
   "cell_type": "code",
   "execution_count": 243,
   "id": "e443ca82",
   "metadata": {},
   "outputs": [
    {
     "name": "stdout",
     "output_type": "stream",
     "text": [
      "Survived        0\n",
      "Pclass          0\n",
      "Name            0\n",
      "Sex             0\n",
      "Age             0\n",
      "SibSp           0\n",
      "Parch           0\n",
      "Ticket       4623\n",
      "Fare            0\n",
      "Cabin       67866\n",
      "Embarked        0\n",
      "dtype: int64 \n",
      "\n",
      "Survived    1.00000\n",
      "Pclass      1.00000\n",
      "Name        1.00000\n",
      "Sex         1.00000\n",
      "Age         1.00000\n",
      "SibSp       1.00000\n",
      "Parch       1.00000\n",
      "Ticket      0.95377\n",
      "Fare        1.00000\n",
      "Cabin       0.32134\n",
      "Embarked    1.00000\n",
      "dtype: float64\n"
     ]
    }
   ],
   "source": [
    "# Определение количества отсутствующих значений и степень полноты данных\n",
    "NA_count = df.isna().sum()\n",
    "completeness_ratio = df.count() / df.shape[0]\n",
    "print(f'{NA_count} \\n\\n{completeness_ratio}')"
   ]
  },
  {
   "cell_type": "markdown",
   "id": "66cae074",
   "metadata": {},
   "source": [
    "### Вывод\n",
    "Для столбцов **Age, Ticket, Fare, Cabin, Embarked** есть отсутствующие значения.  \n",
    "В столбце **Cabin** отсутствует около ***68%*** значений. Для остальных стобцов количество отсутствующих значений не превышает ***5%***. "
   ]
  },
  {
   "cell_type": "markdown",
   "id": "59468f73",
   "metadata": {},
   "source": [
    "### Замена значений NaN для столбцов Age, Fare, Embarked."
   ]
  },
  {
   "cell_type": "code",
   "execution_count": 157,
   "id": "397d10fa",
   "metadata": {},
   "outputs": [],
   "source": [
    "# Замена значений NaN для столбца Age в зависимости от Pclass и Sex. Замену производим по значению моды.\n",
    "for i in sorted(df['Pclass'].unique()):\n",
    "    for j in ['male' , 'female']:\n",
    "        mask = (df['Pclass'] == i) & (df['Sex'] == j) & (df['Age'].notna() == False)\n",
    "        passenger_class = df[(df['Pclass'] == i) \n",
    "                             & (df['Sex'] == j) \n",
    "                             & (df['Age'].notna() == True)]['Age'].mode()[0]\n",
    "        df['Age'].where(~(mask), other=passenger_class, inplace=True)\n",
    "\n",
    "#Замена значений NaN для столбца Fare в зависимости от Pclass. Замену производим по среднему значению.\n",
    "df['Fare'] = df.groupby('Pclass')['Fare'].transform(lambda group: group.fillna(group.mean()))\n",
    "\n",
    "#Замена значений NaN для столбца Embarked. Замену произведем по значению моды.\n",
    "df['Embarked'] = df['Embarked'].fillna(df['Embarked'].mode()[0])"
   ]
  },
  {
   "cell_type": "markdown",
   "id": "dc142e5b",
   "metadata": {},
   "source": [
    "#### Проверка на предмет заполненных полей после замены NaN"
   ]
  },
  {
   "cell_type": "code",
   "execution_count": 159,
   "id": "f4f46952",
   "metadata": {},
   "outputs": [
    {
     "name": "stdout",
     "output_type": "stream",
     "text": [
      "<class 'pandas.core.frame.DataFrame'>\n",
      "Int64Index: 100000 entries, 0 to 99999\n",
      "Data columns (total 11 columns):\n",
      " #   Column    Non-Null Count   Dtype  \n",
      "---  ------    --------------   -----  \n",
      " 0   Survived  100000 non-null  int64  \n",
      " 1   Pclass    100000 non-null  int64  \n",
      " 2   Name      100000 non-null  object \n",
      " 3   Sex       100000 non-null  object \n",
      " 4   Age       100000 non-null  float64\n",
      " 5   SibSp     100000 non-null  int64  \n",
      " 6   Parch     100000 non-null  int64  \n",
      " 7   Ticket    95377 non-null   object \n",
      " 8   Fare      100000 non-null  float64\n",
      " 9   Cabin     32134 non-null   object \n",
      " 10  Embarked  100000 non-null  object \n",
      "dtypes: float64(2), int64(4), object(5)\n",
      "memory usage: 11.2+ MB\n"
     ]
    }
   ],
   "source": [
    "df.info()"
   ]
  },
  {
   "cell_type": "markdown",
   "id": "419d606e",
   "metadata": {},
   "source": [
    "В датафрейме осталось 2 столбца, содержащих NaN - **Ticket** и **Сabin**.  \n",
    "Принято решение оставить эти столбцы в наборе данных без изменений. Позже можно провести локальное исследование с учётом особых условий."
   ]
  },
  {
   "cell_type": "markdown",
   "id": "5408eca5",
   "metadata": {},
   "source": [
    "# Data exploration"
   ]
  },
  {
   "cell_type": "markdown",
   "id": "54052d32",
   "metadata": {},
   "source": [
    "### В начале оценим насколько значения датафрейма коррелируют между собой. \n",
    "Таким образом отбираем пары потенциальных признаков, исследование которых может оказаться интересным."
   ]
  },
  {
   "cell_type": "code",
   "execution_count": 242,
   "id": "61346493",
   "metadata": {},
   "outputs": [
    {
     "data": {
      "text/plain": [
       "<AxesSubplot:title={'center':'Корреляционная карта параметров'}>"
      ]
     },
     "execution_count": 242,
     "metadata": {},
     "output_type": "execute_result"
    },
    {
     "data": {
      "image/png": "[encoded data removed]",
      "text/plain": [
       "<Figure size 1440x576 with 2 Axes>"
      ]
     },
     "metadata": {},
     "output_type": "display_data"
    }
   ],
   "source": [
    "df_w_nums = df.copy()\n",
    "\n",
    "# Проведем замену значений столбцов со строками (Sex, Embarked) на числовые значения.\n",
    "df_w_nums['Sex'] = df_w_nums['Sex'].replace(to_replace=['male','female'], value=[1,0])\n",
    "df_w_nums['Embarked'] = df_w_nums['Embarked'].replace(to_replace=['S','C','Q'], value=[0,1,2])\n",
    "\n",
    "df_corr = np.triu(df_w_nums.corr())\n",
    "\n",
    "# Строим корреляционную карту\n",
    "plt.figure(figsize = (20,8))\n",
    "plt.title('Корреляционная карта параметров')\n",
    "sns.heatmap(df_w_nums.corr(), annot = True, \n",
    "            vmin=-1, vmax=1, center= 0, cmap= 'coolwarm', \n",
    "            mask=df_corr, fmt = '.1g', square=True)"
   ]
  },
  {
   "cell_type": "code",
   "execution_count": 238,
   "id": "cc5b7e7b",
   "metadata": {
    "scrolled": true
   },
   "outputs": [
    {
     "data": {
      "text/plain": [
       "[('Survived', 'Sex'), ('Pclass', 'Age'), ('Pclass', 'Fare'), ('Age', 'Fare')]"
      ]
     },
     "execution_count": 238,
     "metadata": {},
     "output_type": "execute_result"
    }
   ],
   "source": [
    "# Список пар с силой корреляции выше 0.4\n",
    "most_correlated_pairs = df_w_nums.corr().unstack()\n",
    "most_correlated_pairs[(most_correlated_pairs != 1.0) &\n",
    "                      (abs(most_correlated_pairs) > 0.4)].drop_duplicates(keep='first', inplace=False).index.to_list()"
   ]
  },
  {
   "cell_type": "markdown",
   "id": "973ce594",
   "metadata": {},
   "source": [
    "### Вывод:\n",
    "Список коррелирующих пар признаков (в порядке убывания силы):  \n",
    "- Age - Pclass;\n",
    "- Fare - Age;  \n",
    "- Sex - Survived;\n",
    "- Fare - Pclass;\n",
    "- Embarked/Fare - Age"
   ]
  },
  {
   "cell_type": "code",
   "execution_count": 291,
   "id": "2417286d",
   "metadata": {},
   "outputs": [
    {
     "data": {
      "text/plain": [
       "<seaborn.axisgrid.FacetGrid at 0x20efa082830>"
      ]
     },
     "execution_count": 291,
     "metadata": {},
     "output_type": "execute_result"
    },
    {
     "data": {
      "text/plain": [
       "<Figure size 1440x576 with 0 Axes>"
      ]
     },
     "metadata": {},
     "output_type": "display_data"
    },
    {
     "data": {
      "image/png": "[encoded data removed]",
      "text/plain": [
       "<Figure size 1152.85x720 with 6 Axes>"
      ]
     },
     "metadata": {},
     "output_type": "display_data"
    }
   ],
   "source": [
    "df1 = df.copy()\n",
    "\n",
    "# Проводим замену значений столбцов (Survived, Embarked) на строковые значения.\n",
    "df1['Survived'] = df1['Survived'].replace(to_replace=[1, 0], value=['yes','no'])\n",
    "df1['Embarked'] = df1['Embarked'].replace(to_replace=['S', 'C', 'Q'], \n",
    "                                          value=['Southampton(England)','Cherbourg(France)', 'Queenstown(Ireland)'])\n",
    "\n",
    "# \n",
    "plt.figure(figsize=(20,8))\n",
    "sns.set_theme(style=\"darkgrid\")\n",
    "sns.displot(data=df1, x='Embarked', col='Pclass', row='Survived', \n",
    "            hue='Sex', multiple='dodge', \n",
    "            shrink = 0.6)"
   ]
  },
  {
   "cell_type": "markdown",
   "id": "034945c8",
   "metadata": {},
   "source": [
    "# Summary"
   ]
  },
  {
   "cell_type": "markdown",
   "id": "19a0d057",
   "metadata": {},
   "source": [
    "### Выводы:\n",
    "1) Большее число погибших путешевствовали в 3-ем классе.  \n",
    "2) Требование капитана корабля по спасению женщин, в целом выполнялось. Наибольшая доля погибших женщин пришлась на пассажиров 3-го класса.  \n",
    "3) Пассажиры, севшие на борт Титаника в Ирландии, в основном находились в 1-ом классе."
   ]
  }
 ],
 "metadata": {
  "kernelspec": {
   "display_name": "Python 3 (ipykernel)",
   "language": "python",
   "name": "python3"
  },
  "language_info": {
   "codemirror_mode": {
    "name": "ipython",
    "version": 3
   },
   "file_extension": ".py",
   "mimetype": "text/x-python",
   "name": "python",
   "nbconvert_exporter": "python",
   "pygments_lexer": "ipython3",
   "version": "3.10.2"
  },
  "toc": {
   "base_numbering": 1,
   "nav_menu": {},
   "number_sections": true,
   "sideBar": true,
   "skip_h1_title": false,
   "title_cell": "Table of Contents",
   "title_sidebar": "Contents",
   "toc_cell": false,
   "toc_position": {},
   "toc_section_display": true,
   "toc_window_display": false
  }
 },
 "nbformat": 4,
 "nbformat_minor": 5
}
